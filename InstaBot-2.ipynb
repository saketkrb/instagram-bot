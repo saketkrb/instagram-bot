{
 "cells": [
  {
   "cell_type": "code",
   "execution_count": 65,
   "metadata": {},
   "outputs": [],
   "source": [
    "from selenium import webdriver\n",
    "from selenium.webdriver.support.ui import WebDriverWait\n",
    "from selenium.webdriver.common.by import By\n",
    "from selenium.webdriver.support import expected_conditions as EC\n",
    "import time\n",
    "from selenium.common.exceptions import NoSuchElementException\n",
    "import numpy as np"
   ]
  },
  {
   "cell_type": "code",
   "execution_count": null,
   "metadata": {},
   "outputs": [],
   "source": [
    "# From the list of instagram handles you obtained when you searched ‘food’ in previous project. \n",
    "# Open the first 10 handles and find the top 5 which have the highest number of followers"
   ]
  },
  {
   "cell_type": "code",
   "execution_count": 90,
   "metadata": {},
   "outputs": [],
   "source": [
    "driver = webdriver.Chrome(executable_path = '/Users/saket/Downloads/chromedriver')\n",
    "driver.get('https://www.instagram.com/')\n",
    "driver.maximize_window()\n",
    "time.sleep(5)"
   ]
  },
  {
   "cell_type": "code",
   "execution_count": null,
   "metadata": {
    "scrolled": true
   },
   "outputs": [],
   "source": [
    "username = 'sample_username'\n",
    "password = 'sample_password'\n",
    "input1 = driver.find_element_by_name('username')\n",
    "input2 = driver.find_element_by_name('password')\n",
    "input1.send_keys(username)\n",
    "input2.send_keys(password)\n",
    "input2.submit()\n",
    "# sqdOP yWX7d    y3zKF     \n",
    "timestamp=WebDriverWait(driver, 10).until(EC.presence_of_element_located((By.CLASS_NAME, \"sqdOP\")))\n",
    "time.sleep(3)\n",
    "driver.find_element_by_class_name('sqdOP').click()\n",
    "timestamp=WebDriverWait(driver, 10).until(EC.presence_of_element_located((By.CLASS_NAME, \"HoLwm\")))\n",
    "driver.find_element_by_xpath('//button[contains(@class, \"HoLwm\")]').click()"
   ]
  },
  {
   "cell_type": "code",
   "execution_count": 68,
   "metadata": {},
   "outputs": [],
   "source": [
    "timestamp=WebDriverWait(driver, 10).until(EC.presence_of_element_located((By.CLASS_NAME, \"x3qfX\")))\n",
    "search_keyword = 'food'\n",
    "search = driver.find_element_by_class_name('x3qfX')\n",
    "search.send_keys(search_keyword)\n",
    "# time.sleep(2)\n",
    "timestampe=WebDriverWait(driver, 10).until(EC.presence_of_element_located((By.XPATH, '//a[@class=\"yCE8d  \"]/div/div[2]/div/span')))\n",
    "\n",
    "    "
   ]
  },
  {
   "cell_type": "code",
   "execution_count": 69,
   "metadata": {},
   "outputs": [
    {
     "name": "stdout",
     "output_type": "stream",
     "text": [
      "['yourfoodlab', 'foodnetwork', 'buzzfeedfood', 'foodtalkindia', 'foodrush.recipe', 'food_hippies95', 'food', 'food.darzee', 'sailusfood', 'foodtrb']\n"
     ]
    }
   ],
   "source": [
    "count = 0\n",
    "top_users_list = list()\n",
    "for i in driver.find_elements_by_xpath('//span[@class=\"Ap253\"]'):\n",
    "    data=i.get_attribute('innerHTML')\n",
    "    if data[0]!='#' and count<10:\n",
    "        top_users_list.append(i.get_attribute('innerHTML'))\n",
    "        count+=1\n",
    "driver.find_element_by_xpath('//div[contains(@class, \"coreSpriteSearchClear\")]').click()\n",
    "print(top_users_list)\n",
    "\n",
    "\n"
   ]
  },
  {
   "cell_type": "code",
   "execution_count": 70,
   "metadata": {},
   "outputs": [],
   "source": [
    "followers = list()\n",
    "for user in top_users_list:\n",
    "    driver.find_element_by_xpath('//span[contains(@class, \"TqC_a\")]').click()\n",
    "    driver.find_element_by_xpath('//input[contains(@class, \"XTCLo\")]').send_keys(user)\n",
    "    timestamp = WebDriverWait(driver, 10).until(EC.presence_of_element_located((By.XPATH, \"//span[@class='Ap253']\")))\n",
    "    driver.find_element_by_xpath('//span[@class=\"Ap253\"]').click()\n",
    "    timestamp = WebDriverWait(driver, 10).until(EC.presence_of_element_located((By.XPATH, '//a[@class=\"-nal3 \"]/span[@class=\"g47SY \"]')))\n",
    "    followers.append(driver.find_element_by_xpath('//a[@class=\"-nal3 \"]/span[@class=\"g47SY \"]').get_attribute('innerHTML'))\n",
    "    time.sleep(3)"
   ]
  },
  {
   "cell_type": "code",
   "execution_count": 71,
   "metadata": {},
   "outputs": [
    {
     "name": "stdout",
     "output_type": "stream",
     "text": [
      "yourfoodlab 1.3m\n",
      "foodnetwork 1.3m\n",
      "buzzfeedfood 10.5m\n",
      "foodtalkindia 3.6m\n",
      "foodrush.recipe 301k\n",
      "food_hippies95 619k\n",
      "food 1.3m\n",
      "food.darzee 1.3m\n",
      "sailusfood 78.4k\n",
      "foodtrb 48k\n"
     ]
    }
   ],
   "source": [
    "for i, j in zip(top_users_list,followers) :\n",
    "    print(i,j)"
   ]
  },
  {
   "cell_type": "code",
   "execution_count": 72,
   "metadata": {},
   "outputs": [],
   "source": [
    "fol = list()\n",
    "for i in followers :\n",
    "    if i[-1] == 'm' :\n",
    "        i = i.replace('m','')\n",
    "        i = float(i)*1000000\n",
    "        fol.append(int(i))\n",
    "    else :\n",
    "        i = i.replace('k','')\n",
    "        i = float(i)*100\n",
    "        fol.append(int(i))\n"
   ]
  },
  {
   "cell_type": "code",
   "execution_count": 73,
   "metadata": {},
   "outputs": [
    {
     "name": "stdout",
     "output_type": "stream",
     "text": [
      "buzzfeedfood\n",
      "foodtalkindia\n",
      "food.darzee\n",
      "food\n",
      "foodnetwork\n"
     ]
    }
   ],
   "source": [
    "followers=np.array(fol, dtype='int')\n",
    "top_users_list=np.array(top_users_list)\n",
    "top_users_list=top_users_list[np.argsort(followers)][::-1]\n",
    "followers=followers[np.argsort(followers)][::-1]\n",
    "top5=[]\n",
    "for x in range(5):\n",
    "    print(top_users_list[x])\n",
    "    top5.append(top_users_list[x])"
   ]
  },
  {
   "cell_type": "code",
   "execution_count": 88,
   "metadata": {},
   "outputs": [],
   "source": [
    "# From the list of instagram handles you obtained when you searched ‘food’ in previous project. \n",
    "# Open the first 10 handles and find the top 5 which have the highest number of followers"
   ]
  },
  {
   "cell_type": "markdown",
   "metadata": {},
   "source": [
    "<!-- From the list of instagram handles you obtained when you searched ‘food’ in previous project.\n",
    "Open the first 10 handles and find the top 5 which have the highest number of followers -->"
   ]
  },
  {
   "cell_type": "code",
   "execution_count": 77,
   "metadata": {},
   "outputs": [
    {
     "name": "stdout",
     "output_type": "stream",
     "text": [
      "buzzfeedfood 10500000\n",
      "foodtalkindia 3600000\n",
      "food.darzee 1300000\n",
      "food 1300000\n",
      "foodnetwork 1300000\n"
     ]
    }
   ],
   "source": [
    "for i,j in zip(top5,followers ) :\n",
    "    print(i,j)"
   ]
  },
  {
   "cell_type": "code",
   "execution_count": 86,
   "metadata": {},
   "outputs": [
    {
     "data": {
      "text/plain": [
       "<Figure size 432x288 with 0 Axes>"
      ]
     },
     "metadata": {},
     "output_type": "display_data"
    },
    {
     "data": {
      "image/png": "[encoded data removed]",
      "text/plain": [
       "<Figure size 720x504 with 1 Axes>"
      ]
     },
     "metadata": {
      "needs_background": "light"
     },
     "output_type": "display_data"
    }
   ],
   "source": [
    "#plotting a graph between those 10 users and the number of followers\n",
    "import matplotlib.pyplot as plt\n",
    "\n",
    "plt.subplots(0, 0)\n",
    "plt.figure(figsize=(10, 7))\n",
    "plt.bar(users, followers, color='rbg')\n",
    "plt.xticks(rotation=45, size=12)\n",
    "plt.yticks(size=12)\n",
    "plt.title('Users versus number of followers', size=12)\n",
    "plt.xlabel('users', size=12)\n",
    "plt.ylabel('followers', size=12)\n",
    "plt.grid()\n",
    "plt.show()"
   ]
  },
  {
   "cell_type": "code",
   "execution_count": null,
   "metadata": {},
   "outputs": [],
   "source": []
  },
  {
   "cell_type": "code",
   "execution_count": null,
   "metadata": {},
   "outputs": [],
   "source": []
  },
  {
   "cell_type": "code",
   "execution_count": null,
   "metadata": {},
   "outputs": [],
   "source": []
  }
 ],
 "metadata": {
  "kernelspec": {
   "display_name": "Python 3",
   "language": "python",
   "name": "python3"
  },
  "language_info": {
   "codemirror_mode": {
    "name": "ipython",
    "version": 3
   },
   "file_extension": ".py",
   "mimetype": "text/x-python",
   "name": "python",
   "nbconvert_exporter": "python",
   "pygments_lexer": "ipython3",
   "version": "3.7.6"
  }
 },
 "nbformat": 4,
 "nbformat_minor": 4
}
